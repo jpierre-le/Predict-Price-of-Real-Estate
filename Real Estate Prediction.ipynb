{
 "cells": [
  {
   "cell_type": "code",
   "execution_count": 1,
   "id": "2580fb22",
   "metadata": {},
   "outputs": [],
   "source": [
    "# ライブラリの読み込み\n",
    "import codecs\n",
    "import pandas as pd\n",
    "from sklearn.model_selection import train_test_split\n",
    "from sklearn.impute import SimpleImputer\n",
    "from sklearn.metrics import mean_absolute_error\n",
    "from xgboost import XGBRegressor"
   ]
  },
  {
   "cell_type": "code",
   "execution_count": 2,
   "id": "bb62c00a",
   "metadata": {},
   "outputs": [],
   "source": [
    "# CSVファイルを読み込んでXに格納\n",
    "# 事前に処理したこと\n",
    "## 建築年を築年数に変換\n",
    "## 最寄駅：距離（分）を数値に変換\n",
    "## 種類=中古マンション以外を削除\n",
    "## その他不要な列を削除\n",
    "with codecs.open('fudosan/34_Hiroshima Prefecture_20101_20204_mansion.csv', 'r', 'shift_jisx0213', 'ignore') as filename:\n",
    "    X = pd.read_csv(filename)"
   ]
  },
  {
   "cell_type": "code",
   "execution_count": 3,
   "id": "f191b83f",
   "metadata": {},
   "outputs": [
    {
     "name": "stdout",
     "output_type": "stream",
     "text": [
      "<class 'pandas.core.frame.DataFrame'>\n",
      "RangeIndex: 4085 entries, 0 to 4084\n",
      "Data columns (total 16 columns):\n",
      " #   Column     Non-Null Count  Dtype  \n",
      "---  ------     --------------  -----  \n",
      " 0   種類         4085 non-null   object \n",
      " 1   市区町村名      4085 non-null   object \n",
      " 2   地区名        4085 non-null   object \n",
      " 3   最寄駅：名称     4084 non-null   object \n",
      " 4   最寄駅：距離（分）  4082 non-null   float64\n",
      " 5   取引価格（総額）   4085 non-null   int64  \n",
      " 6   間取り        3970 non-null   object \n",
      " 7   面積（㎡）      4085 non-null   int64  \n",
      " 8   築年数        4085 non-null   int64  \n",
      " 9   建物の構造      3995 non-null   object \n",
      " 10  都市計画       4076 non-null   object \n",
      " 11  建ぺい率（％）    4057 non-null   float64\n",
      " 12  容積率（％）     4057 non-null   float64\n",
      " 13  取引時点       4085 non-null   object \n",
      " 14  改装         3814 non-null   object \n",
      " 15  取引の事情等     115 non-null    object \n",
      "dtypes: float64(3), int64(3), object(10)\n",
      "memory usage: 510.8+ KB\n"
     ]
    }
   ],
   "source": [
    "# 読み込んだデータの構造\n",
    "X.info()"
   ]
  },
  {
   "cell_type": "code",
   "execution_count": 4,
   "id": "edaedae2",
   "metadata": {},
   "outputs": [
    {
     "data": {
      "text/plain": [
       "種類             1\n",
       "市区町村名         14\n",
       "地区名          324\n",
       "最寄駅：名称        86\n",
       "最寄駅：距離（分）     34\n",
       "取引価格（総額）     136\n",
       "間取り           15\n",
       "面積（㎡）         30\n",
       "築年数           52\n",
       "建物の構造          5\n",
       "都市計画          12\n",
       "建ぺい率（％）        4\n",
       "容積率（％）        10\n",
       "取引時点          44\n",
       "改装             2\n",
       "取引の事情等         3\n",
       "dtype: int64"
      ]
     },
     "execution_count": 4,
     "metadata": {},
     "output_type": "execute_result"
    }
   ],
   "source": [
    "# 各列で一意なデータの数\n",
    "X.nunique()"
   ]
  },
  {
   "cell_type": "code",
   "execution_count": 5,
   "id": "047c25c8",
   "metadata": {},
   "outputs": [],
   "source": [
    "# 取引価格（総額）をyに移す\n",
    "X.dropna(axis=0, subset=['取引価格（総額）'], inplace=True)\n",
    "y = X['取引価格（総額）']\n",
    "X.drop(['取引価格（総額）'], axis=1, inplace=True)"
   ]
  },
  {
   "cell_type": "code",
   "execution_count": 7,
   "id": "8ce9eb49",
   "metadata": {},
   "outputs": [],
   "source": [
    "# 訓練データと評価データに分割\n",
    "X_train, X_valid, y_train, y_valid = train_test_split(X, y, train_size=0.8, test_size=0.2, random_state=0)"
   ]
  },
  {
   "cell_type": "code",
   "execution_count": 9,
   "id": "56644112",
   "metadata": {},
   "outputs": [],
   "source": [
    "# すべてのカテゴリ変数をワンホットエンコーディング\n",
    "X_train = pd.get_dummies(X_train)\n",
    "X_valid = pd.get_dummies(X_valid)\n",
    "X_train, X_valid = X_train.align(X_valid, join='left', axis=1)"
   ]
  },
  {
   "cell_type": "code",
   "execution_count": 12,
   "id": "b54a1b13",
   "metadata": {},
   "outputs": [
    {
     "data": {
      "text/plain": [
       "count    3.268000e+03\n",
       "mean     1.805174e+07\n",
       "std      1.059953e+07\n",
       "min      3.000000e+06\n",
       "25%      1.100000e+07\n",
       "50%      1.600000e+07\n",
       "75%      2.400000e+07\n",
       "max      9.500000e+07\n",
       "Name: 取引価格（総額）, dtype: float64"
      ]
     },
     "execution_count": 12,
     "metadata": {},
     "output_type": "execute_result"
    }
   ],
   "source": [
    "# 取引価格（総額）の統計情報\n",
    "y_train.describe()"
   ]
  },
  {
   "cell_type": "code",
   "execution_count": 14,
   "id": "05518242",
   "metadata": {},
   "outputs": [
    {
     "data": {
      "text/plain": [
       "XGBRegressor(base_score=0.5, booster='gbtree', colsample_bylevel=1,\n",
       "             colsample_bynode=1, colsample_bytree=1, gamma=0, gpu_id=-1,\n",
       "             importance_type='gain', interaction_constraints='',\n",
       "             learning_rate=0.300000012, max_delta_step=0, max_depth=6,\n",
       "             min_child_weight=1, missing=nan, monotone_constraints='()',\n",
       "             n_estimators=100, n_jobs=4, num_parallel_tree=1, random_state=0,\n",
       "             reg_alpha=0, reg_lambda=1, scale_pos_weight=1, subsample=1,\n",
       "             tree_method='exact', validate_parameters=1, verbosity=None)"
      ]
     },
     "execution_count": 14,
     "metadata": {},
     "output_type": "execute_result"
    }
   ],
   "source": [
    "# XGBoostモデルの定義\n",
    "my_model_1 = XGBRegressor(random_state=0)\n",
    "\n",
    "# 訓練データの学習\n",
    "my_model_1.fit(X_train, y_train)"
   ]
  },
  {
   "cell_type": "code",
   "execution_count": 15,
   "id": "24e9bcee",
   "metadata": {},
   "outputs": [],
   "source": [
    "# 学習済みモデルを使って、評価データから取引価格（総額）を予測\n",
    "predictions_1 = my_model_1.predict(X_valid)"
   ]
  },
  {
   "cell_type": "code",
   "execution_count": 16,
   "id": "fdf43b00",
   "metadata": {},
   "outputs": [
    {
     "name": "stdout",
     "output_type": "stream",
     "text": [
      "Mean Absolute Error: 2597357.9143206854\n"
     ]
    }
   ],
   "source": [
    "# 平均絶対誤差の取得\n",
    "mae_1 = mean_absolute_error(predictions_1, y_valid)\n",
    "print(\"Mean Absolute Error:\" , mae_1)"
   ]
  }
 ],
 "metadata": {
  "kernelspec": {
   "display_name": "Python 3",
   "language": "python",
   "name": "python3"
  },
  "language_info": {
   "codemirror_mode": {
    "name": "ipython",
    "version": 3
   },
   "file_extension": ".py",
   "mimetype": "text/x-python",
   "name": "python",
   "nbconvert_exporter": "python",
   "pygments_lexer": "ipython3",
   "version": "3.8.9"
  }
 },
 "nbformat": 4,
 "nbformat_minor": 5
}

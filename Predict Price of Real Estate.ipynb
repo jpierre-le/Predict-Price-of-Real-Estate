{
 "cells": [
  {
   "cell_type": "code",
   "execution_count": 1,
   "id": "2580fb22",
   "metadata": {},
   "outputs": [],
   "source": [
    "import pandas as pd\n",
    "from sklearn.model_selection import train_test_split\n",
    "from sklearn.impute import SimpleImputer\n",
    "import codecs"
   ]
  },
  {
   "cell_type": "code",
   "execution_count": 2,
   "id": "bb62c00a",
   "metadata": {},
   "outputs": [],
   "source": [
    "# Read the data\n",
    "with codecs.open('fudosan/34_Hiroshima Prefecture_20101_20204_mansion.csv', 'r', 'shift_jisx0213', 'ignore') as filename:\n",
    "    X = pd.read_csv(filename)"
   ]
  },
  {
   "cell_type": "code",
   "execution_count": 3,
   "id": "69230a71",
   "metadata": {},
   "outputs": [
    {
     "name": "stdout",
     "output_type": "stream",
     "text": [
      "<class 'pandas.core.frame.DataFrame'>\n",
      "RangeIndex: 4085 entries, 0 to 4084\n",
      "Data columns (total 16 columns):\n",
      " #   Column     Non-Null Count  Dtype  \n",
      "---  ------     --------------  -----  \n",
      " 0   種類         4085 non-null   object \n",
      " 1   市区町村名      4085 non-null   object \n",
      " 2   地区名        4085 non-null   object \n",
      " 3   最寄駅：名称     4084 non-null   object \n",
      " 4   最寄駅：距離（分）  4082 non-null   float64\n",
      " 5   取引価格（総額）   4085 non-null   int64  \n",
      " 6   間取り        3970 non-null   object \n",
      " 7   面積（㎡）      4085 non-null   int64  \n",
      " 8   築年数        4085 non-null   int64  \n",
      " 9   建物の構造      3995 non-null   object \n",
      " 10  都市計画       4076 non-null   object \n",
      " 11  建ぺい率（％）    4057 non-null   float64\n",
      " 12  容積率（％）     4057 non-null   float64\n",
      " 13  取引時点       4085 non-null   object \n",
      " 14  改装         3814 non-null   object \n",
      " 15  取引の事情等     115 non-null    object \n",
      "dtypes: float64(3), int64(3), object(10)\n",
      "memory usage: 510.8+ KB\n"
     ]
    }
   ],
   "source": [
    "X.info()"
   ]
  },
  {
   "cell_type": "code",
   "execution_count": 4,
   "id": "595eeaef",
   "metadata": {},
   "outputs": [
    {
     "data": {
      "text/plain": [
       "種類             1\n",
       "市区町村名         14\n",
       "地区名          324\n",
       "最寄駅：名称        86\n",
       "最寄駅：距離（分）     34\n",
       "取引価格（総額）     136\n",
       "間取り           15\n",
       "面積（㎡）         30\n",
       "築年数           52\n",
       "建物の構造          5\n",
       "都市計画          12\n",
       "建ぺい率（％）        4\n",
       "容積率（％）        10\n",
       "取引時点          44\n",
       "改装             2\n",
       "取引の事情等         3\n",
       "dtype: int64"
      ]
     },
     "execution_count": 4,
     "metadata": {},
     "output_type": "execute_result"
    }
   ],
   "source": [
    "X.nunique()"
   ]
  },
  {
   "cell_type": "code",
   "execution_count": 5,
   "id": "047c25c8",
   "metadata": {},
   "outputs": [],
   "source": [
    "# Remove rows with missing target, separate target from predictors\n",
    "X.dropna(axis=0, subset=['取引価格（総額）'], inplace=True)\n",
    "y = X['取引価格（総額）']\n",
    "X.drop(['取引価格（総額）'], axis=1, inplace=True)"
   ]
  },
  {
   "cell_type": "code",
   "execution_count": 6,
   "id": "f5063415",
   "metadata": {},
   "outputs": [
    {
     "data": {
      "text/plain": [
       "\"\\n# Imputation\\nimputed_X = X.copy()\\n\\n# Category imputation\\ncat_imputer = SimpleImputer(strategy='most_frequent')\\ncat_col = ['最寄駅：名称', '間取り', '建物の構造', '用途', '今後の利用目的', '都市計画', '改装']\\nimputed_X[cat_col] = pd.DataFrame(cat_imputer.fit_transform(imputed_X[cat_col]))\\n\\n# Number imputation\\nnum_imputer = SimpleImputer(strategy='median')\\nnum_col = ['最寄駅：距離（分）', '築年数', '建ぺい率（％）', '容積率（％）']\\nimputed_X[num_col] = pd.DataFrame(num_imputer.fit_transform(imputed_X[num_col]))\\n\""
      ]
     },
     "execution_count": 6,
     "metadata": {},
     "output_type": "execute_result"
    }
   ],
   "source": [
    "'''\n",
    "# Imputation\n",
    "imputed_X = X.copy()\n",
    "\n",
    "# Category imputation\n",
    "cat_imputer = SimpleImputer(strategy='most_frequent')\n",
    "cat_col = ['最寄駅：名称', '間取り', '建物の構造', '用途', '今後の利用目的', '都市計画', '改装']\n",
    "imputed_X[cat_col] = pd.DataFrame(cat_imputer.fit_transform(imputed_X[cat_col]))\n",
    "\n",
    "# Number imputation\n",
    "num_imputer = SimpleImputer(strategy='median')\n",
    "num_col = ['最寄駅：距離（分）', '築年数', '建ぺい率（％）', '容積率（％）']\n",
    "imputed_X[num_col] = pd.DataFrame(num_imputer.fit_transform(imputed_X[num_col]))\n",
    "'''"
   ]
  },
  {
   "cell_type": "code",
   "execution_count": 7,
   "id": "8ce9eb49",
   "metadata": {},
   "outputs": [],
   "source": [
    "# Break off validation set from training data\n",
    "X_train, X_valid, y_train, y_valid = train_test_split(X, y, train_size=0.8, test_size=0.2, random_state=0)"
   ]
  },
  {
   "cell_type": "code",
   "execution_count": 8,
   "id": "41996b46",
   "metadata": {},
   "outputs": [
    {
     "data": {
      "text/plain": [
       "'\\n# Select categorical columns\\nlow_cardinality_cols = [cname for cname in X_train.columns if X_train[cname].nunique() < 20 and \\n                        X_train[cname].dtype == \"object\"]\\nhigh_cardinality_cols = [cname for cname in X_train.columns if X_train[cname].nunique() > 20 and \\n                        X_train[cname].dtype == \"object\"]\\n                       \\n# Select numeric columns\\nnumeric_cols = [cname for cname in X_train.columns if X_train[cname].dtype in [\\'int64\\', \\'float64\\']]\\n'"
      ]
     },
     "execution_count": 8,
     "metadata": {},
     "output_type": "execute_result"
    }
   ],
   "source": [
    "'''\n",
    "# Select categorical columns\n",
    "low_cardinality_cols = [cname for cname in X_train.columns if X_train[cname].nunique() < 20 and \n",
    "                        X_train[cname].dtype == \"object\"]\n",
    "high_cardinality_cols = [cname for cname in X_train.columns if X_train[cname].nunique() > 20 and \n",
    "                        X_train[cname].dtype == \"object\"]\n",
    "                       \n",
    "# Select numeric columns\n",
    "numeric_cols = [cname for cname in X_train.columns if X_train[cname].dtype in ['int64', 'float64']]\n",
    "'''                        "
   ]
  },
  {
   "cell_type": "code",
   "execution_count": 9,
   "id": "56644112",
   "metadata": {},
   "outputs": [],
   "source": [
    "# One-hot encode the data (to shorten the code, we use pandas)\n",
    "# X_train = pd.get_dummies(X_train, columns=low_cardinality_cols)\n",
    "# X_valid = pd.get_dummies(X_valid, columns=low_cardinality_cols)\n",
    "X_train = pd.get_dummies(X_train)\n",
    "X_valid = pd.get_dummies(X_valid)\n",
    "X_train, X_valid = X_train.align(X_valid, join='left', axis=1)"
   ]
  },
  {
   "cell_type": "code",
   "execution_count": 10,
   "id": "27ae74ac",
   "metadata": {},
   "outputs": [
    {
     "data": {
      "text/plain": [
       "'\\nfor cols in high_cardinality_cols:\\n    X_train[cols] = pd.factorize(X_train[cols])[0]\\nfor cols in high_cardinality_cols:\\n    X_valid[cols] = pd.factorize(X_valid[cols])[0]\\n'"
      ]
     },
     "execution_count": 10,
     "metadata": {},
     "output_type": "execute_result"
    }
   ],
   "source": [
    "# Label encode the data\n",
    "'''\n",
    "for cols in high_cardinality_cols:\n",
    "    X_train[cols] = pd.factorize(X_train[cols])[0]\n",
    "for cols in high_cardinality_cols:\n",
    "    X_valid[cols] = pd.factorize(X_valid[cols])[0]\n",
    "'''"
   ]
  },
  {
   "cell_type": "code",
   "execution_count": 11,
   "id": "95700c8b",
   "metadata": {},
   "outputs": [
    {
     "name": "stdout",
     "output_type": "stream",
     "text": [
      "<class 'pandas.core.frame.DataFrame'>\n",
      "Int64Index: 3268 entries, 3223 to 2732\n",
      "Columns: 501 entries, 最寄駅：距離（分） to 取引の事情等_関係者間取引\n",
      "dtypes: float64(3), int64(2), uint8(496)\n",
      "memory usage: 1.7 MB\n"
     ]
    }
   ],
   "source": [
    "X_train.info()"
   ]
  },
  {
   "cell_type": "code",
   "execution_count": 12,
   "id": "75e17f43",
   "metadata": {},
   "outputs": [
    {
     "data": {
      "text/plain": [
       "count    3.268000e+03\n",
       "mean     1.805174e+07\n",
       "std      1.059953e+07\n",
       "min      3.000000e+06\n",
       "25%      1.100000e+07\n",
       "50%      1.600000e+07\n",
       "75%      2.400000e+07\n",
       "max      9.500000e+07\n",
       "Name: 取引価格（総額）, dtype: float64"
      ]
     },
     "execution_count": 12,
     "metadata": {},
     "output_type": "execute_result"
    }
   ],
   "source": [
    "y_train.describe()"
   ]
  },
  {
   "cell_type": "code",
   "execution_count": 13,
   "id": "2397486c",
   "metadata": {},
   "outputs": [
    {
     "data": {
      "text/html": [
       "<div>\n",
       "<style scoped>\n",
       "    .dataframe tbody tr th:only-of-type {\n",
       "        vertical-align: middle;\n",
       "    }\n",
       "\n",
       "    .dataframe tbody tr th {\n",
       "        vertical-align: top;\n",
       "    }\n",
       "\n",
       "    .dataframe thead th {\n",
       "        text-align: right;\n",
       "    }\n",
       "</style>\n",
       "<table border=\"1\" class=\"dataframe\">\n",
       "  <thead>\n",
       "    <tr style=\"text-align: right;\">\n",
       "      <th></th>\n",
       "      <th>最寄駅：距離（分）</th>\n",
       "      <th>面積（㎡）</th>\n",
       "      <th>築年数</th>\n",
       "      <th>建ぺい率（％）</th>\n",
       "      <th>容積率（％）</th>\n",
       "      <th>種類_中古マンション等</th>\n",
       "      <th>市区町村名_三原市</th>\n",
       "      <th>市区町村名_呉市</th>\n",
       "      <th>市区町村名_尾道市</th>\n",
       "      <th>市区町村名_広島市中区</th>\n",
       "      <th>...</th>\n",
       "      <th>取引時点_2019年第３四半期</th>\n",
       "      <th>取引時点_2019年第４四半期</th>\n",
       "      <th>取引時点_2020年第１四半期</th>\n",
       "      <th>取引時点_2020年第２四半期</th>\n",
       "      <th>取引時点_2020年第３四半期</th>\n",
       "      <th>取引時点_2020年第４四半期</th>\n",
       "      <th>改装_改装済</th>\n",
       "      <th>改装_未改装</th>\n",
       "      <th>取引の事情等_調停・競売等</th>\n",
       "      <th>取引の事情等_関係者間取引</th>\n",
       "    </tr>\n",
       "  </thead>\n",
       "  <tbody>\n",
       "    <tr>\n",
       "      <th>3223</th>\n",
       "      <td>13.0</td>\n",
       "      <td>70</td>\n",
       "      <td>9</td>\n",
       "      <td>80.0</td>\n",
       "      <td>600.0</td>\n",
       "      <td>1</td>\n",
       "      <td>0</td>\n",
       "      <td>1</td>\n",
       "      <td>0</td>\n",
       "      <td>0</td>\n",
       "      <td>...</td>\n",
       "      <td>0</td>\n",
       "      <td>0</td>\n",
       "      <td>0</td>\n",
       "      <td>0</td>\n",
       "      <td>1</td>\n",
       "      <td>0</td>\n",
       "      <td>0</td>\n",
       "      <td>1</td>\n",
       "      <td>0</td>\n",
       "      <td>0</td>\n",
       "    </tr>\n",
       "  </tbody>\n",
       "</table>\n",
       "<p>1 rows × 501 columns</p>\n",
       "</div>"
      ],
      "text/plain": [
       "      最寄駅：距離（分）  面積（㎡）  築年数  建ぺい率（％）  容積率（％）  種類_中古マンション等  市区町村名_三原市  \\\n",
       "3223       13.0     70    9     80.0   600.0            1          0   \n",
       "\n",
       "      市区町村名_呉市  市区町村名_尾道市  市区町村名_広島市中区  ...  取引時点_2019年第３四半期  取引時点_2019年第４四半期  \\\n",
       "3223         1          0            0  ...                0                0   \n",
       "\n",
       "      取引時点_2020年第１四半期  取引時点_2020年第２四半期  取引時点_2020年第３四半期  取引時点_2020年第４四半期  \\\n",
       "3223                0                0                1                0   \n",
       "\n",
       "      改装_改装済  改装_未改装  取引の事情等_調停・競売等  取引の事情等_関係者間取引  \n",
       "3223       0       1              0              0  \n",
       "\n",
       "[1 rows x 501 columns]"
      ]
     },
     "execution_count": 13,
     "metadata": {},
     "output_type": "execute_result"
    }
   ],
   "source": [
    "X_train.head(1)"
   ]
  },
  {
   "cell_type": "code",
   "execution_count": 14,
   "id": "05518242",
   "metadata": {},
   "outputs": [
    {
     "data": {
      "text/plain": [
       "XGBRegressor(base_score=0.5, booster='gbtree', colsample_bylevel=1,\n",
       "             colsample_bynode=1, colsample_bytree=1, gamma=0, gpu_id=-1,\n",
       "             importance_type='gain', interaction_constraints='',\n",
       "             learning_rate=0.300000012, max_delta_step=0, max_depth=6,\n",
       "             min_child_weight=1, missing=nan, monotone_constraints='()',\n",
       "             n_estimators=100, n_jobs=4, num_parallel_tree=1, random_state=0,\n",
       "             reg_alpha=0, reg_lambda=1, scale_pos_weight=1, subsample=1,\n",
       "             tree_method='exact', validate_parameters=1, verbosity=None)"
      ]
     },
     "execution_count": 14,
     "metadata": {},
     "output_type": "execute_result"
    }
   ],
   "source": [
    "from xgboost import XGBRegressor\n",
    "\n",
    "# Define the model\n",
    "my_model_1 = XGBRegressor(random_state=0)\n",
    "\n",
    "# Fit the model\n",
    "my_model_1.fit(X_train, y_train)"
   ]
  },
  {
   "cell_type": "code",
   "execution_count": 17,
   "id": "bd5bbb19",
   "metadata": {},
   "outputs": [
    {
     "data": {
      "text/html": [
       "<div>\n",
       "<style scoped>\n",
       "    .dataframe tbody tr th:only-of-type {\n",
       "        vertical-align: middle;\n",
       "    }\n",
       "\n",
       "    .dataframe tbody tr th {\n",
       "        vertical-align: top;\n",
       "    }\n",
       "\n",
       "    .dataframe thead th {\n",
       "        text-align: right;\n",
       "    }\n",
       "</style>\n",
       "<table border=\"1\" class=\"dataframe\">\n",
       "  <thead>\n",
       "    <tr style=\"text-align: right;\">\n",
       "      <th></th>\n",
       "      <th>最寄駅：距離（分）</th>\n",
       "      <th>面積（㎡）</th>\n",
       "      <th>築年数</th>\n",
       "      <th>建ぺい率（％）</th>\n",
       "      <th>容積率（％）</th>\n",
       "      <th>種類_中古マンション等</th>\n",
       "      <th>市区町村名_三原市</th>\n",
       "      <th>市区町村名_呉市</th>\n",
       "      <th>市区町村名_尾道市</th>\n",
       "      <th>市区町村名_広島市中区</th>\n",
       "      <th>...</th>\n",
       "      <th>取引時点_2019年第３四半期</th>\n",
       "      <th>取引時点_2019年第４四半期</th>\n",
       "      <th>取引時点_2020年第１四半期</th>\n",
       "      <th>取引時点_2020年第２四半期</th>\n",
       "      <th>取引時点_2020年第３四半期</th>\n",
       "      <th>取引時点_2020年第４四半期</th>\n",
       "      <th>改装_改装済</th>\n",
       "      <th>改装_未改装</th>\n",
       "      <th>取引の事情等_調停・競売等</th>\n",
       "      <th>取引の事情等_関係者間取引</th>\n",
       "    </tr>\n",
       "  </thead>\n",
       "  <tbody>\n",
       "    <tr>\n",
       "      <th>2193</th>\n",
       "      <td>5.0</td>\n",
       "      <td>65</td>\n",
       "      <td>20</td>\n",
       "      <td>80.0</td>\n",
       "      <td>300.0</td>\n",
       "      <td>1</td>\n",
       "      <td>0</td>\n",
       "      <td>0</td>\n",
       "      <td>0</td>\n",
       "      <td>0</td>\n",
       "      <td>...</td>\n",
       "      <td>0</td>\n",
       "      <td>0</td>\n",
       "      <td>0</td>\n",
       "      <td>0</td>\n",
       "      <td>0</td>\n",
       "      <td>0</td>\n",
       "      <td>0</td>\n",
       "      <td>1</td>\n",
       "      <td>0</td>\n",
       "      <td>0</td>\n",
       "    </tr>\n",
       "  </tbody>\n",
       "</table>\n",
       "<p>1 rows × 501 columns</p>\n",
       "</div>"
      ],
      "text/plain": [
       "      最寄駅：距離（分）  面積（㎡）  築年数  建ぺい率（％）  容積率（％）  種類_中古マンション等  市区町村名_三原市  \\\n",
       "2193        5.0     65   20     80.0   300.0            1          0   \n",
       "\n",
       "      市区町村名_呉市  市区町村名_尾道市  市区町村名_広島市中区  ...  取引時点_2019年第３四半期  取引時点_2019年第４四半期  \\\n",
       "2193         0          0            0  ...                0                0   \n",
       "\n",
       "      取引時点_2020年第１四半期  取引時点_2020年第２四半期  取引時点_2020年第３四半期  取引時点_2020年第４四半期  \\\n",
       "2193                0                0                0                0   \n",
       "\n",
       "      改装_改装済  改装_未改装  取引の事情等_調停・競売等  取引の事情等_関係者間取引  \n",
       "2193       0       1              0              0  \n",
       "\n",
       "[1 rows x 501 columns]"
      ]
     },
     "execution_count": 17,
     "metadata": {},
     "output_type": "execute_result"
    }
   ],
   "source": [
    "X_valid.head(1)"
   ]
  },
  {
   "cell_type": "code",
   "execution_count": 15,
   "id": "24e9bcee",
   "metadata": {},
   "outputs": [],
   "source": [
    "from sklearn.metrics import mean_absolute_error\n",
    "\n",
    "# Get predictions\n",
    "predictions_1 = my_model_1.predict(X_valid)"
   ]
  },
  {
   "cell_type": "code",
   "execution_count": 16,
   "id": "fdf43b00",
   "metadata": {},
   "outputs": [
    {
     "name": "stdout",
     "output_type": "stream",
     "text": [
      "Mean Absolute Error: 2597357.9143206854\n"
     ]
    }
   ],
   "source": [
    "# Calculate MAE\n",
    "mae_1 = mean_absolute_error(predictions_1, y_valid)\n",
    "\n",
    "print(\"Mean Absolute Error:\" , mae_1)"
   ]
  }
 ],
 "metadata": {
  "kernelspec": {
   "display_name": "Python 3",
   "language": "python",
   "name": "python3"
  },
  "language_info": {
   "codemirror_mode": {
    "name": "ipython",
    "version": 3
   },
   "file_extension": ".py",
   "mimetype": "text/x-python",
   "name": "python",
   "nbconvert_exporter": "python",
   "pygments_lexer": "ipython3",
   "version": "3.8.9"
  }
 },
 "nbformat": 4,
 "nbformat_minor": 5
}
